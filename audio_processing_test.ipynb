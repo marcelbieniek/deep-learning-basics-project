{
 "cells": [
  {
   "cell_type": "markdown",
   "metadata": {},
   "source": [
    "### Audio processing\n"
   ]
  },
  {
   "cell_type": "code",
   "execution_count": 2,
   "metadata": {},
   "outputs": [],
   "source": [
    "import librosa, librosa.display\n",
    "import matplotlib.pyplot as plt\n",
    "import numpy as np\n",
    "import os\n"
   ]
  },
  {
   "cell_type": "code",
   "execution_count": null,
   "metadata": {},
   "outputs": [],
   "source": [
    "# sanity check sample rate of tracks\n",
    "\n",
    "directory = \"raw_data/acdc/high_voltage/\"\n",
    "for filename in os.listdir(directory):\n",
    "    fpath = os.path.join(directory, filename)\n",
    "    with open(fpath, 'r') as f:\n",
    "        print(librosa.get_samplerate(fpath))"
   ]
  },
  {
   "cell_type": "code",
   "execution_count": 6,
   "metadata": {},
   "outputs": [
    {
     "name": "stdout",
     "output_type": "stream",
     "text": [
      "11813643, sr: 46100\n"
     ]
    }
   ],
   "source": [
    "# load audio file\n",
    "\n",
    "folder = \"raw_data/acdc/back_in_black\"\n",
    "f = \"acdc-back_in_black.mp3\"\n",
    "path = os.path.join(folder, f)\n",
    "\n",
    "signal, sr = librosa.load(path, sr = 44100) # sr: sample rate\n",
    "# len(signal) = sr * t\n",
    "print(f\"{len(signal)}, sr: {sr}\")"
   ]
  },
  {
   "cell_type": "code",
   "execution_count": null,
   "metadata": {},
   "outputs": [],
   "source": [
    "# visualise waveform\n",
    "\n",
    "librosa.display.waveshow(signal, sr = sr)\n",
    "plt.xlabel(\"Time [s]\")\n",
    "plt.ylabel(\"Amplitude\")\n",
    "plt.show()"
   ]
  },
  {
   "cell_type": "code",
   "execution_count": null,
   "metadata": {},
   "outputs": [],
   "source": [
    "# transition from time to frequency domain\n",
    "\n",
    "fft = np.fft.fft(signal) \n",
    "# complex values -> magnitudes\n",
    "magnitude = np.abs(fft)\n",
    "frequency = np.linspace(0, sr, len(magnitude))\n",
    "\n",
    "# cut the plot in half\n",
    "left_freq = frequency[:len(frequency)//2]\n",
    "left_magn = magnitude[:len(magnitude)//2]\n"
   ]
  },
  {
   "cell_type": "code",
   "execution_count": null,
   "metadata": {},
   "outputs": [],
   "source": [
    "# visualise power spectrum\n",
    "\n",
    "plt.plot(left_freq, left_magn)\n",
    "plt.xlabel(\"Frequency [Hz]\")\n",
    "plt.ylabel(\"Magnitude\")\n",
    "plt.show()"
   ]
  },
  {
   "cell_type": "code",
   "execution_count": null,
   "metadata": {},
   "outputs": [],
   "source": [
    "# create spectrogram\n",
    "\n",
    "# STFT\n",
    "n_fft = 2048\n",
    "hop_length = 512\n",
    "\n",
    "stft = librosa.core.stft(signal, hop_length=hop_length, n_fft=n_fft)\n",
    "\n",
    "spectrogram = np.abs(stft)"
   ]
  },
  {
   "cell_type": "code",
   "execution_count": null,
   "metadata": {},
   "outputs": [],
   "source": [
    "# visualise spectrogram\n",
    "\n",
    "# calculate log spectrogram (log scale)\n",
    "log_spectrogram = librosa.amplitude_to_db(spectrogram)\n",
    "img = librosa.display.specshow(log_spectrogram, sr=sr, hop_length=hop_length, y_axis='linear', x_axis='time') # heatmap-like graph\n",
    "plt.xlabel(\"Time [s]\")\n",
    "plt.ylabel(\"Frequency [Hz]\")\n",
    "plt.colorbar(img, format =\"%+2.d dB\")\n",
    "plt.plot()\n"
   ]
  },
  {
   "cell_type": "code",
   "execution_count": null,
   "metadata": {},
   "outputs": [],
   "source": [
    "# extract MFCCs\n",
    "\n",
    "n_mfcc = 13\n",
    "MFCCs = librosa.feature.mfcc(y=signal, sr=sr, n_fft=n_fft, hop_length=hop_length, n_mfcc=n_mfcc)\n"
   ]
  },
  {
   "cell_type": "code",
   "execution_count": null,
   "metadata": {},
   "outputs": [],
   "source": [
    "# visualise MFCCs\n",
    "\n",
    "librosa.display.specshow(MFCCs, sr=sr, hop_length=hop_length, x_axis='time')\n",
    "plt.xlabel(\"Time [s]\")\n",
    "plt.ylabel(\"MFCC\")\n",
    "plt.colorbar()\n",
    "plt.plot()\n"
   ]
  }
 ],
 "metadata": {
  "kernelspec": {
   "display_name": ".venv",
   "language": "python",
   "name": "python3"
  },
  "language_info": {
   "codemirror_mode": {
    "name": "ipython",
    "version": 3
   },
   "file_extension": ".py",
   "mimetype": "text/x-python",
   "name": "python",
   "nbconvert_exporter": "python",
   "pygments_lexer": "ipython3",
   "version": "3.8.10"
  }
 },
 "nbformat": 4,
 "nbformat_minor": 2
}
